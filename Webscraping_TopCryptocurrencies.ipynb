{
 "cells": [
  {
   "cell_type": "markdown",
   "metadata": {},
   "source": [
    "# Web Scraping for Top Cryptocurrencies"
   ]
  },
  {
   "cell_type": "markdown",
   "metadata": {
    "ExecuteTime": {
     "end_time": "2020-04-20T00:47:30.721350Z",
     "start_time": "2020-04-20T00:47:30.670581Z"
    }
   },
   "source": [
    "* Created a tool that returns a table with prices of the top criptocurrencies.\n",
    "* Scraped website using python.\n",
    "* Built and save a table with the data."
   ]
  },
  {
   "cell_type": "markdown",
   "metadata": {},
   "source": [
    "# Modules"
   ]
  },
  {
   "cell_type": "code",
   "execution_count": 1,
   "metadata": {
    "ExecuteTime": {
     "end_time": "2020-04-29T01:26:44.046095Z",
     "start_time": "2020-04-29T01:26:32.858860Z"
    }
   },
   "outputs": [],
   "source": [
    "import requests\n",
    "from bs4 import BeautifulSoup\n",
    "import pandas as pd"
   ]
  },
  {
   "cell_type": "markdown",
   "metadata": {},
   "source": [
    "# Requests"
   ]
  },
  {
   "cell_type": "code",
   "execution_count": 2,
   "metadata": {
    "ExecuteTime": {
     "end_time": "2020-04-29T01:26:45.696549Z",
     "start_time": "2020-04-29T01:26:44.052034Z"
    }
   },
   "outputs": [],
   "source": [
    "url = \"http://investing.com\"\n",
    "headers = {'User-Agent': 'Mozilla/5.0 (Macintosh; Intel Mac OS X 10_11_5) AppleWebKit/537.36 (KHTML, like Gecko) Chrome/50.0.2661.102 Safari/537.36'}\n",
    "page = requests.get(url, headers=headers)"
   ]
  },
  {
   "cell_type": "markdown",
   "metadata": {},
   "source": [
    "# BeautifulSoup "
   ]
  },
  {
   "cell_type": "code",
   "execution_count": 4,
   "metadata": {},
   "outputs": [],
   "source": [
    "soup = BeautifulSoup(page.text, \"html.parser\")"
   ]
  },
  {
   "cell_type": "markdown",
   "metadata": {},
   "source": [
    "Class of the cyptocurrencies table"
   ]
  },
  {
   "cell_type": "code",
   "execution_count": 5,
   "metadata": {
    "ExecuteTime": {
     "end_time": "2020-04-29T01:26:48.167385Z",
     "start_time": "2020-04-29T01:26:47.778609Z"
    }
   },
   "outputs": [],
   "source": [
    "table_crypto = soup.find(class_='genTbl js-all-crypto-preview-table wideTbl elpTbl elp20 topCryptoHP')"
   ]
  },
  {
   "cell_type": "markdown",
   "metadata": {},
   "source": [
    "Lines of cyptocurrencies table"
   ]
  },
  {
   "cell_type": "code",
   "execution_count": 6,
   "metadata": {},
   "outputs": [],
   "source": [
    "tr_all = table_crypto.find_all('tr')"
   ]
  },
  {
   "cell_type": "markdown",
   "metadata": {},
   "source": [
    "Create a list for all cryptocurrencies and their prices"
   ]
  },
  {
   "cell_type": "code",
   "execution_count": 7,
   "metadata": {
    "ExecuteTime": {
     "end_time": "2020-04-29T01:26:48.262330Z",
     "start_time": "2020-04-29T01:26:48.232348Z"
    }
   },
   "outputs": [],
   "source": [
    "crypto_list=[]\n",
    "for sub_tr in tr_all: \n",
    "    price = sub_tr.find_all('td',{'class':'price js-currency-price'})\n",
    "    criptocurrency = sub_tr.find_all('td',{'class':'left bold elp name cryptoName first js-currency-name'})\n",
    "    if(criptocurrency!=[]):\n",
    "        crypto_list.append([criptocurrency[0].get_text(),price[0].get_text().replace(\",\", \"\")])"
   ]
  },
  {
   "cell_type": "markdown",
   "metadata": {},
   "source": [
    "# DataFrame"
   ]
  },
  {
   "cell_type": "code",
   "execution_count": 9,
   "metadata": {},
   "outputs": [],
   "source": [
    "df = pd.DataFrame(crypto_list, columns= ['Criptocurrency', 'Price (USD)'])"
   ]
  },
  {
   "cell_type": "markdown",
   "metadata": {},
   "source": [
    "Export data"
   ]
  },
  {
   "cell_type": "code",
   "execution_count": 10,
   "metadata": {},
   "outputs": [],
   "source": [
    "df.to_csv (r'Prices_cryptocurrencies.csv', index = False, header=True)"
   ]
  },
  {
   "cell_type": "markdown",
   "metadata": {},
   "source": [
    "Display data"
   ]
  },
  {
   "cell_type": "code",
   "execution_count": 11,
   "metadata": {},
   "outputs": [
    {
     "data": {
      "text/html": [
       "<style  type=\"text/css\" >\n",
       "</style><table id=\"T_57d217c9_ee21_11eb_88c9_104a7d42cfc4\" ><thead>    <tr>        <th class=\"blank level0\" ></th>        <th class=\"col_heading level0 col0\" >Criptocurrency</th>        <th class=\"col_heading level0 col1\" >Price (USD)</th>    </tr></thead><tbody>\n",
       "                <tr>\n",
       "                        <th id=\"T_57d217c9_ee21_11eb_88c9_104a7d42cfc4level0_row0\" class=\"row_heading level0 row0\" >0</th>\n",
       "                        <td id=\"T_57d217c9_ee21_11eb_88c9_104a7d42cfc4row0_col0\" class=\"data row0 col0\" >Bitcoin</td>\n",
       "                        <td id=\"T_57d217c9_ee21_11eb_88c9_104a7d42cfc4row0_col1\" class=\"data row0 col1\" >38312.3</td>\n",
       "            </tr>\n",
       "            <tr>\n",
       "                        <th id=\"T_57d217c9_ee21_11eb_88c9_104a7d42cfc4level0_row1\" class=\"row_heading level0 row1\" >1</th>\n",
       "                        <td id=\"T_57d217c9_ee21_11eb_88c9_104a7d42cfc4row1_col0\" class=\"data row1 col0\" >Ethereum</td>\n",
       "                        <td id=\"T_57d217c9_ee21_11eb_88c9_104a7d42cfc4row1_col1\" class=\"data row1 col1\" >2331.28</td>\n",
       "            </tr>\n",
       "            <tr>\n",
       "                        <th id=\"T_57d217c9_ee21_11eb_88c9_104a7d42cfc4level0_row2\" class=\"row_heading level0 row2\" >2</th>\n",
       "                        <td id=\"T_57d217c9_ee21_11eb_88c9_104a7d42cfc4row2_col0\" class=\"data row2 col0\" >Tether</td>\n",
       "                        <td id=\"T_57d217c9_ee21_11eb_88c9_104a7d42cfc4row2_col1\" class=\"data row2 col1\" >1.0001</td>\n",
       "            </tr>\n",
       "            <tr>\n",
       "                        <th id=\"T_57d217c9_ee21_11eb_88c9_104a7d42cfc4level0_row3\" class=\"row_heading level0 row3\" >3</th>\n",
       "                        <td id=\"T_57d217c9_ee21_11eb_88c9_104a7d42cfc4row3_col0\" class=\"data row3 col0\" >Binance Coin</td>\n",
       "                        <td id=\"T_57d217c9_ee21_11eb_88c9_104a7d42cfc4row3_col1\" class=\"data row3 col1\" >317.6</td>\n",
       "            </tr>\n",
       "            <tr>\n",
       "                        <th id=\"T_57d217c9_ee21_11eb_88c9_104a7d42cfc4level0_row4\" class=\"row_heading level0 row4\" >4</th>\n",
       "                        <td id=\"T_57d217c9_ee21_11eb_88c9_104a7d42cfc4row4_col0\" class=\"data row4 col0\" >Cardano</td>\n",
       "                        <td id=\"T_57d217c9_ee21_11eb_88c9_104a7d42cfc4row4_col1\" class=\"data row4 col1\" >1.319375</td>\n",
       "            </tr>\n",
       "    </tbody></table>"
      ],
      "text/plain": [
       "<pandas.io.formats.style.Styler at 0xb7b32ff220>"
      ]
     },
     "execution_count": 11,
     "metadata": {},
     "output_type": "execute_result"
    }
   ],
   "source": [
    "df.style"
   ]
  }
 ],
 "metadata": {
  "kernelspec": {
   "display_name": "Python 3",
   "language": "python",
   "name": "python3"
  },
  "language_info": {
   "codemirror_mode": {
    "name": "ipython",
    "version": 3
   },
   "file_extension": ".py",
   "mimetype": "text/x-python",
   "name": "python",
   "nbconvert_exporter": "python",
   "pygments_lexer": "ipython3",
   "version": "3.8.5"
  }
 },
 "nbformat": 4,
 "nbformat_minor": 4
}
